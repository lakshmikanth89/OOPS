{
 "cells": [
  {
   "cell_type": "markdown",
   "id": "38f40d5a",
   "metadata": {},
   "source": [
    "### Class: ***Logical Entity***\n",
    "- Name\n",
    "- Attributes/ Properties\n",
    "- Functions/ Methods\n",
    "\n",
    "### Object: ***Physical Entity***\n",
    "- Which follows the class/ Instance of the class"
   ]
  },
  {
   "cell_type": "markdown",
   "id": "50da0154",
   "metadata": {},
   "source": [
    "|Class| |Access|\n",
    "| ---| | ---| \n",
    "|Attributes| |N|\n",
    "|Methods| |N|\n"
   ]
  },
  {
   "cell_type": "code",
   "execution_count": 88,
   "id": "99451d8b",
   "metadata": {},
   "outputs": [
    {
     "data": {
      "text/html": [
       "<style>\n",
       "table{float: left}\n",
       "<(/style)\n"
      ],
      "text/plain": [
       "<IPython.core.display.HTML object>"
      ]
     },
     "metadata": {},
     "output_type": "display_data"
    }
   ],
   "source": [
    "%%html\n",
    "<style>\n",
    "table{float: left}\n",
    "<(/style)"
   ]
  },
  {
   "cell_type": "markdown",
   "id": "3f798f2c",
   "metadata": {},
   "source": [
    "|Object| |Access|\n",
    "| ---| | ---| \n",
    "|Attributes| |Y|\n",
    "|Methods| |Y|\n"
   ]
  },
  {
   "cell_type": "code",
   "execution_count": 94,
   "id": "ae7de288",
   "metadata": {},
   "outputs": [
    {
     "name": "stdout",
     "output_type": "stream",
     "text": [
      "white 5.9\n",
      "Running >>>>>>\n",
      "Walking ------\n"
     ]
    }
   ],
   "source": [
    "class Human:                         #class\n",
    "    color= 'white'\n",
    "    height= 5.9\n",
    "    \n",
    "    def run(self):\n",
    "        print('Running >>>>>>')\n",
    "    def walk(self):\n",
    "        print('Walking ------')\n",
    "\n",
    "sundeep= Human()                      #object\n",
    "print(sundeep.color, sundeep.height)\n",
    "sundeep.run()\n",
    "sundeep.walk()"
   ]
  },
  {
   "cell_type": "markdown",
   "id": "bf2932ee",
   "metadata": {},
   "source": [
    "### Constructor"
   ]
  },
  {
   "cell_type": "code",
   "execution_count": 149,
   "id": "2d7e10a8",
   "metadata": {},
   "outputs": [
    {
     "name": "stdout",
     "output_type": "stream",
     "text": [
      "sundeep White 5.11\n",
      "saradhi Red 5.9\n",
      "sundeep Running >>>>>>\n",
      "saradhi Running >>>>>>\n",
      "sundeep Walking ------\n",
      "saradhi Walking ------\n"
     ]
    }
   ],
   "source": [
    "class Human:                         #class\n",
    "    def __init__(self, c, h):\n",
    "        self.color= c\n",
    "        self.height= h\n",
    "        \n",
    "    def run(self, n):\n",
    "        print(n +' '+ 'Running >>>>>>')\n",
    "        \n",
    "    def walk(self, n):\n",
    "        print(n +' '+ 'Walking ------')\n",
    "\n",
    "sundeep= Human('White', 5.11)                      #object\n",
    "saradhi= Human('Red', 5.9)\n",
    "print('sundeep', sundeep.color, sundeep.height)\n",
    "print('saradhi', saradhi.color, saradhi.height)\n",
    "sundeep.run('sundeep')\n",
    "saradhi.run('saradhi')\n",
    "sundeep.walk('sundeep')\n",
    "saradhi.walk('saradhi')\n"
   ]
  },
  {
   "cell_type": "markdown",
   "id": "05f9d111",
   "metadata": {},
   "source": [
    "### Inheritance: ***Aquring the properties of Parent Class***\n",
    "\n",
    "|Single|||\n",
    "|---| |---|\n",
    "|BaseClass| |DerivedClass|\n",
    "|one| |one|"
   ]
  },
  {
   "cell_type": "markdown",
   "id": "a965885b",
   "metadata": {},
   "source": [
    "\n",
    "\n",
    "\n",
    "|Parent Class (Base Class)| |Child Class (Derived Class)| |Access|\n",
    "|---| |---||---|\n",
    "|Attributes| |Attributes| |Y|\n",
    "|Methods| |Methdos| |Y|"
   ]
  },
  {
   "cell_type": "code",
   "execution_count": 122,
   "id": "8790d9cb",
   "metadata": {},
   "outputs": [
    {
     "name": "stdout",
     "output_type": "stream",
     "text": [
      "BaseClass\n",
      "10 100\n",
      "Derived Class\n",
      "20 200\n"
     ]
    }
   ],
   "source": [
    "class BaseClass:\n",
    "    a=10\n",
    "    b=100\n",
    "    \n",
    "    def display(self):\n",
    "        print('BaseClass')\n",
    "        \n",
    "class DerivedClass(BaseClass):\n",
    "    c=20\n",
    "    d=200\n",
    "    \n",
    "    def show(self):\n",
    "        print('Derived Class')\n",
    "\n",
    "dc= DerivedClass()        \n",
    "\n",
    "dc.display()\n",
    "print(dc.a, dc.b)\n",
    "\n",
    "dc.show()\n",
    "print(dc.c, dc.d)        "
   ]
  },
  {
   "cell_type": "markdown",
   "id": "8331c09e",
   "metadata": {},
   "source": [
    "\n",
    " |Multilevel|\n",
    " |---|\n",
    "|BaseClass-- [grand paent]|\n",
    "|DerivedClass-- [parent]|\n",
    "  |vv|\n",
    "|DervivedClass-- [child]|\n"
   ]
  },
  {
   "cell_type": "code",
   "execution_count": 130,
   "id": "02113b2a",
   "metadata": {},
   "outputs": [
    {
     "name": "stdout",
     "output_type": "stream",
     "text": [
      "GrandParent Display\n",
      "10 100\n",
      "Parent Display\n",
      "20 200\n",
      "ChildClass Display\n",
      "30 300\n"
     ]
    }
   ],
   "source": [
    "class GP:\n",
    "    a=10\n",
    "    b=100\n",
    "    \n",
    "    def gdisplay(self):\n",
    "        print('GrandParent Display')\n",
    "        \n",
    "class P(GP):\n",
    "    c=20\n",
    "    d=200\n",
    "    \n",
    "    def pdisplay(self):\n",
    "        print('Parent Display')\n",
    "        \n",
    "class C(P):\n",
    "    e=30\n",
    "    f=300\n",
    "    \n",
    "    def cdisplay(self):\n",
    "        print('ChildClass Display')\n",
    "        \n",
    "cobj= C()        \n",
    "cobj.gdisplay()\n",
    "print(cobj.a, cobj.b)\n",
    "\n",
    "cobj.pdisplay()\n",
    "print(cobj.c, cobj.d)\n",
    "\n",
    "cobj.cdisplay()\n",
    "print(cobj.e, cobj.f)"
   ]
  },
  {
   "cell_type": "markdown",
   "id": "7a55edab",
   "metadata": {},
   "source": [
    "\n",
    " |Hierarchical| ||\n",
    " |---|||\n",
    "|BaseClass-- [paent]|||\n",
    "|DerivedClass1-- [son]| |DerivedClass2-- [dotor]|\n",
    " "
   ]
  },
  {
   "cell_type": "code",
   "execution_count": 135,
   "id": "7a82b71f",
   "metadata": {},
   "outputs": [
    {
     "name": "stdout",
     "output_type": "stream",
     "text": [
      "SonClass\n",
      "ParentClass\n",
      "DotorClass\n",
      "ParentClass\n"
     ]
    }
   ],
   "source": [
    "class Parent:\n",
    "    def pdisplay(self):\n",
    "        print('ParentClass')\n",
    "class Son(Parent):\n",
    "    def sdisplay(self):\n",
    "        print('SonClass')\n",
    "class Dotor(Parent):\n",
    "    def ddisplay(self):\n",
    "        print('DotorClass')\n",
    "        \n",
    "s= Son()\n",
    "s.sdisplay()\n",
    "s.pdisplay()\n",
    "\n",
    "d= Dotor()\n",
    "d.ddisplay()\n",
    "s.pdisplay()"
   ]
  },
  {
   "cell_type": "markdown",
   "id": "fab2d75f",
   "metadata": {},
   "source": [
    "\n",
    " |Multilevel| ||\n",
    " |---||---|\n",
    "|BaseClass1-- [Father]||BaseClass1-- [Mother]|\n",
    "|DerivedClass [child]| ||\n",
    " "
   ]
  },
  {
   "cell_type": "code",
   "execution_count": 137,
   "id": "cc95bd5d",
   "metadata": {},
   "outputs": [
    {
     "name": "stdout",
     "output_type": "stream",
     "text": [
      "FatherClass\n",
      "MotherClass\n"
     ]
    }
   ],
   "source": [
    "class Father:\n",
    "    def fdisplay(self):\n",
    "        print('FatherClass')\n",
    "class Mother:\n",
    "    def mdisplay(self):\n",
    "        print('MotherClass')\n",
    "class Child(Father, Mother):\n",
    "    def cdisplay(self):\n",
    "        print('ChildClass')\n",
    "        \n",
    "c= Child()\n",
    "c.fdisplay()\n",
    "c.mdisplay()"
   ]
  },
  {
   "cell_type": "markdown",
   "id": "d7fd4956",
   "metadata": {},
   "source": [
    "### Polymorphism:\n",
    "- Implementing same thing in different ways\n",
    "\n",
    "- ***Compile type***: Method Overloading <br>\n",
    "|Compile type|\n",
    "|---|\n",
    "|add()|\n",
    "|add(a,b)|\n",
    "|add(a,b,c)|\n",
    "|add(a,b,c,d)|\n"
   ]
  },
  {
   "cell_type": "code",
   "execution_count": 153,
   "id": "62e2cc9b",
   "metadata": {},
   "outputs": [
    {
     "name": "stdout",
     "output_type": "stream",
     "text": [
      "60\n",
      "70\n"
     ]
    }
   ],
   "source": [
    "class Demo:\n",
    "    def add(self):\n",
    "        a=10\n",
    "        b=100\n",
    "        print(a+b)\n",
    "    def add(self, a, b, c=30):\n",
    "        print(a+b+c)\n",
    "\n",
    "o= Demo()\n",
    "o.add(10, 20)\n",
    "o.add(10,20,40)"
   ]
  },
  {
   "cell_type": "markdown",
   "id": "aa50e172",
   "metadata": {},
   "source": [
    "\n",
    "- ***Runtime***: Method Overriding"
   ]
  },
  {
   "cell_type": "code",
   "execution_count": 154,
   "id": "21fab735",
   "metadata": {},
   "outputs": [
    {
     "name": "stdout",
     "output_type": "stream",
     "text": [
      "Bike\n"
     ]
    }
   ],
   "source": [
    "class Parent:\n",
    "    def transport(self):\n",
    "        print('Cycle')\n",
    "        \n",
    "class Child(Parent):\n",
    "    def transport(self):\n",
    "        print('Bike')\n",
    "        \n",
    "c= Child()\n",
    "c.transport()"
   ]
  },
  {
   "cell_type": "markdown",
   "id": "62c37041",
   "metadata": {},
   "source": []
  },
  {
   "cell_type": "markdown",
   "id": "6ce94f23",
   "metadata": {},
   "source": [
    "### ***Abstraction Method*** : \n",
    "- Imlementation is in hide and essenstional parts are visible by inheritance using ABC module (Abstract BaseClass)\n",
    "- atleast it should have one abstract method\n",
    "- abstract method: only function call with empty defination using decorators    (@ abstract method)\n",
    "- object will not be create\n",
    "- Convert Abstract Class to Concrete Class (No Abstract Methods)"
   ]
  },
  {
   "cell_type": "code",
   "execution_count": 1,
   "id": "762dffd5",
   "metadata": {},
   "outputs": [
    {
     "name": "stdout",
     "output_type": "stream",
     "text": [
      "Housing Intrest 8.5%\n",
      "Vehicle Intrest 5.5%\n",
      "Housing Intrest 7.5%\n",
      "Vehicle Intrest 5.0%\n"
     ]
    }
   ],
   "source": [
    "from abc import ABC, abstractmethod\n",
    "\n",
    "class AbstractDemo(ABC):      # Abstract Classs\n",
    "    @abstractmethod\n",
    "    def HL(self):        # Abstract Method\n",
    "        None\n",
    "    @abstractmethod    \n",
    "    def VL(self):\n",
    "        None\n",
    "        \n",
    "class SBI(AbstractDemo): # Concrete Class\n",
    "    def HL(self):\n",
    "        print('Housing Intrest 8.5%')\n",
    "    def VL(self):\n",
    "        print('Vehicle Intrest 5.5%')\n",
    "        \n",
    "class ICICI(AbstractDemo):\n",
    "    def HL(self):\n",
    "        print('Housing Intrest 7.5%')\n",
    "    def VL(self):\n",
    "        print('Vehicle Intrest 5.0%')\n",
    "    \n",
    "        \n",
    "        \n",
    "sbiobj= SBI()      \n",
    "sbiobj.HL()\n",
    "sbiobj.VL()\n",
    "\n",
    "\n",
    "iciciobj= ICICI()\n",
    "iciciobj.HL()\n",
    "iciciobj.VL()"
   ]
  },
  {
   "cell_type": "markdown",
   "id": "cb91da43",
   "metadata": {},
   "source": [
    "### Encapsulation: \n",
    "- wrapping of data and methods\n",
    "ex: Class>> Variables+Methods\n",
    "- Data hiding and Security\n",
    "    -Access specifiers\n",
    "        -Public >> It can access within the class and out side the classs [variables and methods]\n",
    "        -Private >> It can access within the class but not out side the classs [variables and methods]\n",
    "        variable: __private variable\n",
    "        method: __private methods"
   ]
  },
  {
   "cell_type": "markdown",
   "id": "e10a41da",
   "metadata": {},
   "source": [
    "### public"
   ]
  },
  {
   "cell_type": "code",
   "execution_count": 2,
   "id": "96ff44f9",
   "metadata": {},
   "outputs": [
    {
     "name": "stdout",
     "output_type": "stream",
     "text": [
      "Display method in Display Class\n",
      "10 100\n"
     ]
    }
   ],
   "source": [
    "class Demo:\n",
    "    a=10\n",
    "    b=100\n",
    "    def display(self):\n",
    "        print('Display method in Display Class')\n",
    "        \n",
    "obj= Demo()\n",
    "obj.display()\n",
    "print(obj.a, obj.b)"
   ]
  },
  {
   "cell_type": "markdown",
   "id": "9ac4a1b3",
   "metadata": {},
   "source": [
    "### private"
   ]
  },
  {
   "cell_type": "code",
   "execution_count": 24,
   "id": "0b55cf43",
   "metadata": {},
   "outputs": [
    {
     "name": "stdout",
     "output_type": "stream",
     "text": [
      "10\n",
      "100\n",
      "Display method in Display Class\n"
     ]
    }
   ],
   "source": [
    "class Demo:\n",
    "    __a=10\n",
    "    __b=100\n",
    "    def __display(self):\n",
    "        print(self.__a)\n",
    "        print(self.__b)\n",
    "        print('Display method in Display Class')\n",
    "    def show(self):\n",
    "        self.__display()\n",
    "        \n",
    "        \n",
    "obj= Demo()\n",
    "# print(obj.b)\n",
    "obj.show()\n",
    "\n"
   ]
  },
  {
   "cell_type": "code",
   "execution_count": 246,
   "id": "d4221c53",
   "metadata": {},
   "outputs": [
    {
     "name": "stdout",
     "output_type": "stream",
     "text": [
      "a : 10\n",
      "b : 100\n"
     ]
    }
   ],
   "source": [
    "class A:\n",
    "    def __init__(self,a,b):\n",
    "        self.__a= a\n",
    "        self.__b= b\n",
    "        \n",
    "    def show(self):\n",
    "        print('a :' ,self.__a)\n",
    "        print('b :' ,self.__b)\n",
    "        \n",
    "\n",
    "obj= A(10, 100)\n",
    "obj.show()"
   ]
  },
  {
   "cell_type": "code",
   "execution_count": 244,
   "id": "b8d2775e",
   "metadata": {},
   "outputs": [
    {
     "name": "stdout",
     "output_type": "stream",
     "text": [
      "a : 10\n",
      "b : 30\n"
     ]
    }
   ],
   "source": [
    "class A:\n",
    "    def __init__(self,a,b):\n",
    "        self._a= a\n",
    "        self._b= b\n",
    "        \n",
    "class B(A):\n",
    "    def __init__(self):\n",
    "        A.__init__(self, 10,30)\n",
    "    \n",
    "    def show(self):\n",
    "        print('a :' ,self._a)\n",
    "        print('b :' ,self._b)\n",
    "        \n",
    "\n",
    "obj= B()\n",
    "obj.show()"
   ]
  },
  {
   "cell_type": "code",
   "execution_count": null,
   "id": "dc69927a",
   "metadata": {},
   "outputs": [],
   "source": []
  },
  {
   "cell_type": "code",
   "execution_count": null,
   "id": "f49d4774",
   "metadata": {},
   "outputs": [],
   "source": []
  },
  {
   "cell_type": "markdown",
   "id": "08ac9667",
   "metadata": {},
   "source": [
    "### Modules "
   ]
  },
  {
   "cell_type": "code",
   "execution_count": 25,
   "id": "986f8513",
   "metadata": {},
   "outputs": [],
   "source": [
    "import os"
   ]
  },
  {
   "cell_type": "code",
   "execution_count": 27,
   "id": "13ec279c",
   "metadata": {},
   "outputs": [
    {
     "data": {
      "text/plain": [
       "'C:\\\\Users\\\\laksh\\\\OOPS'"
      ]
     },
     "execution_count": 27,
     "metadata": {},
     "output_type": "execute_result"
    }
   ],
   "source": [
    "os.getcwd()"
   ]
  },
  {
   "cell_type": "code",
   "execution_count": 28,
   "id": "98afd54d",
   "metadata": {},
   "outputs": [],
   "source": [
    "os.mkdir('Lakshmikanth')"
   ]
  },
  {
   "cell_type": "code",
   "execution_count": 29,
   "id": "8ca53675",
   "metadata": {},
   "outputs": [
    {
     "data": {
      "text/plain": [
       "['.ipynb_checkpoints', 'Lakshmikanth', 'OOPs.ipynb']"
      ]
     },
     "execution_count": 29,
     "metadata": {},
     "output_type": "execute_result"
    }
   ],
   "source": [
    "os.listdir()"
   ]
  },
  {
   "cell_type": "code",
   "execution_count": 32,
   "id": "1db2b456",
   "metadata": {},
   "outputs": [],
   "source": [
    "# dir(os) >> get the list of functions"
   ]
  },
  {
   "cell_type": "code",
   "execution_count": 33,
   "id": "6009d32a",
   "metadata": {},
   "outputs": [
    {
     "data": {
      "text/plain": [
       "<module 'ntpath' from 'C:\\\\Users\\\\laksh\\\\anaconda3\\\\lib\\\\ntpath.py'>"
      ]
     },
     "execution_count": 33,
     "metadata": {},
     "output_type": "execute_result"
    }
   ],
   "source": [
    "os.path"
   ]
  },
  {
   "cell_type": "markdown",
   "id": "1f9a947f",
   "metadata": {},
   "source": [
    "### System"
   ]
  },
  {
   "cell_type": "code",
   "execution_count": 34,
   "id": "1c96e2a2",
   "metadata": {},
   "outputs": [],
   "source": [
    "import sys"
   ]
  },
  {
   "cell_type": "code",
   "execution_count": 35,
   "id": "c3d67075",
   "metadata": {},
   "outputs": [
    {
     "data": {
      "text/plain": [
       "9223372036854775807"
      ]
     },
     "execution_count": 35,
     "metadata": {},
     "output_type": "execute_result"
    }
   ],
   "source": [
    "sys.maxsize"
   ]
  },
  {
   "cell_type": "code",
   "execution_count": 36,
   "id": "3c051e8e",
   "metadata": {},
   "outputs": [
    {
     "data": {
      "text/plain": [
       "['C:\\\\Users\\\\laksh\\\\OOPS',\n",
       " 'C:\\\\Users\\\\laksh\\\\anaconda3\\\\python39.zip',\n",
       " 'C:\\\\Users\\\\laksh\\\\anaconda3\\\\DLLs',\n",
       " 'C:\\\\Users\\\\laksh\\\\anaconda3\\\\lib',\n",
       " 'C:\\\\Users\\\\laksh\\\\anaconda3',\n",
       " '',\n",
       " 'C:\\\\Users\\\\laksh\\\\anaconda3\\\\lib\\\\site-packages',\n",
       " 'C:\\\\Users\\\\laksh\\\\anaconda3\\\\lib\\\\site-packages\\\\locket-0.2.1-py3.9.egg',\n",
       " 'C:\\\\Users\\\\laksh\\\\anaconda3\\\\lib\\\\site-packages\\\\win32',\n",
       " 'C:\\\\Users\\\\laksh\\\\anaconda3\\\\lib\\\\site-packages\\\\win32\\\\lib',\n",
       " 'C:\\\\Users\\\\laksh\\\\anaconda3\\\\lib\\\\site-packages\\\\Pythonwin',\n",
       " 'C:\\\\Users\\\\laksh\\\\anaconda3\\\\lib\\\\site-packages\\\\IPython\\\\extensions',\n",
       " 'C:\\\\Users\\\\laksh\\\\.ipython']"
      ]
     },
     "execution_count": 36,
     "metadata": {},
     "output_type": "execute_result"
    }
   ],
   "source": [
    "sys.path"
   ]
  },
  {
   "cell_type": "code",
   "execution_count": 37,
   "id": "16e974bd",
   "metadata": {},
   "outputs": [
    {
     "data": {
      "text/plain": [
       "'3.9.7 (default, Sep 16 2021, 16:59:28) [MSC v.1916 64 bit (AMD64)]'"
      ]
     },
     "execution_count": 37,
     "metadata": {},
     "output_type": "execute_result"
    }
   ],
   "source": [
    "sys.version"
   ]
  },
  {
   "cell_type": "markdown",
   "id": "fe91f22b",
   "metadata": {},
   "source": [
    "### Date Time"
   ]
  },
  {
   "cell_type": "code",
   "execution_count": 51,
   "id": "eb0a8678",
   "metadata": {},
   "outputs": [],
   "source": [
    "import datetime"
   ]
  },
  {
   "cell_type": "code",
   "execution_count": 41,
   "id": "b5c0b75d",
   "metadata": {},
   "outputs": [
    {
     "name": "stdout",
     "output_type": "stream",
     "text": [
      "2022-08-20 15:56:18.755389\n"
     ]
    }
   ],
   "source": [
    "d= datetime.datetime.now()\n",
    "print(d)"
   ]
  },
  {
   "cell_type": "code",
   "execution_count": 43,
   "id": "6197d623",
   "metadata": {},
   "outputs": [
    {
     "name": "stdout",
     "output_type": "stream",
     "text": [
      "2022-08-20\n"
     ]
    }
   ],
   "source": [
    "d= datetime.date.today()\n",
    "print(d)"
   ]
  },
  {
   "cell_type": "code",
   "execution_count": 44,
   "id": "2c86a0ff",
   "metadata": {},
   "outputs": [],
   "source": [
    "from datetime import datetime # module to class"
   ]
  },
  {
   "cell_type": "code",
   "execution_count": 45,
   "id": "6034cda2",
   "metadata": {},
   "outputs": [
    {
     "name": "stdout",
     "output_type": "stream",
     "text": [
      "2022-08-20 15:58:47.477647\n"
     ]
    }
   ],
   "source": [
    "d= datetime.now()\n",
    "print(d)"
   ]
  },
  {
   "cell_type": "code",
   "execution_count": 48,
   "id": "641f77cc",
   "metadata": {},
   "outputs": [],
   "source": [
    "from datetime import date"
   ]
  },
  {
   "cell_type": "code",
   "execution_count": 49,
   "id": "14a77e84",
   "metadata": {},
   "outputs": [
    {
     "name": "stdout",
     "output_type": "stream",
     "text": [
      "2022-08-20\n"
     ]
    }
   ],
   "source": [
    "d= date.today()\n",
    "print(d)"
   ]
  },
  {
   "cell_type": "code",
   "execution_count": 54,
   "id": "9d945070",
   "metadata": {},
   "outputs": [
    {
     "name": "stdout",
     "output_type": "stream",
     "text": [
      "2018-08-08\n"
     ]
    }
   ],
   "source": [
    "d= datetime.date(2018,8,8)\n",
    "print(d)"
   ]
  },
  {
   "cell_type": "code",
   "execution_count": 55,
   "id": "9ab36e56",
   "metadata": {},
   "outputs": [
    {
     "data": {
      "text/plain": [
       "2018"
      ]
     },
     "execution_count": 55,
     "metadata": {},
     "output_type": "execute_result"
    }
   ],
   "source": [
    "d.year"
   ]
  },
  {
   "cell_type": "code",
   "execution_count": 58,
   "id": "04e3fea3",
   "metadata": {},
   "outputs": [
    {
     "data": {
      "text/plain": [
       "8"
      ]
     },
     "execution_count": 58,
     "metadata": {},
     "output_type": "execute_result"
    }
   ],
   "source": [
    "d.month"
   ]
  },
  {
   "cell_type": "code",
   "execution_count": 59,
   "id": "794e336c",
   "metadata": {},
   "outputs": [
    {
     "data": {
      "text/plain": [
       "8"
      ]
     },
     "execution_count": 59,
     "metadata": {},
     "output_type": "execute_result"
    }
   ],
   "source": [
    "d.day"
   ]
  },
  {
   "cell_type": "code",
   "execution_count": 61,
   "id": "eb4fd4fb",
   "metadata": {},
   "outputs": [
    {
     "name": "stdout",
     "output_type": "stream",
     "text": [
      "08:28:10.000400\n"
     ]
    }
   ],
   "source": [
    "d= datetime.time(8,28,10,400)\n",
    "print(d)"
   ]
  },
  {
   "cell_type": "code",
   "execution_count": 62,
   "id": "1fc4f5bd",
   "metadata": {},
   "outputs": [
    {
     "data": {
      "text/plain": [
       "8"
      ]
     },
     "execution_count": 62,
     "metadata": {},
     "output_type": "execute_result"
    }
   ],
   "source": [
    "d.hour"
   ]
  },
  {
   "cell_type": "code",
   "execution_count": 65,
   "id": "cee24ccd",
   "metadata": {},
   "outputs": [
    {
     "data": {
      "text/plain": [
       "28"
      ]
     },
     "execution_count": 65,
     "metadata": {},
     "output_type": "execute_result"
    }
   ],
   "source": [
    "d.minute"
   ]
  },
  {
   "cell_type": "code",
   "execution_count": 66,
   "id": "6b5c306e",
   "metadata": {},
   "outputs": [
    {
     "data": {
      "text/plain": [
       "10"
      ]
     },
     "execution_count": 66,
     "metadata": {},
     "output_type": "execute_result"
    }
   ],
   "source": [
    "d.second"
   ]
  },
  {
   "cell_type": "code",
   "execution_count": 67,
   "id": "52fc058f",
   "metadata": {},
   "outputs": [
    {
     "data": {
      "text/plain": [
       "400"
      ]
     },
     "execution_count": 67,
     "metadata": {},
     "output_type": "execute_result"
    }
   ],
   "source": [
    "d.microsecond"
   ]
  },
  {
   "cell_type": "code",
   "execution_count": 78,
   "id": "189cdd64",
   "metadata": {},
   "outputs": [],
   "source": [
    "import datetime\n",
    "t1= datetime.timedelta(weeks= 2, days=22, hours= 2)\n",
    "t2= datetime.timedelta(weeks= 10, days=20, hours= 1.5)"
   ]
  },
  {
   "cell_type": "code",
   "execution_count": 79,
   "id": "4fa35968",
   "metadata": {},
   "outputs": [
    {
     "name": "stdout",
     "output_type": "stream",
     "text": [
      "-54 days, 0:30:00\n"
     ]
    }
   ],
   "source": [
    "print(t1-t2)"
   ]
  },
  {
   "cell_type": "markdown",
   "id": "d97abeb5",
   "metadata": {},
   "source": [
    "### Exception Handling"
   ]
  },
  {
   "cell_type": "markdown",
   "id": "50d1cb34",
   "metadata": {},
   "source": [
    "- Compile Time / syntax error\n",
    "- Logical error\n",
    "- Run Time error"
   ]
  },
  {
   "cell_type": "markdown",
   "id": "be722bec",
   "metadata": {},
   "source": [
    "- Try Block\n",
    "- Except Block\n",
    "- Else Block\n",
    "- Finally Block"
   ]
  },
  {
   "cell_type": "code",
   "execution_count": 131,
   "id": "2b2a53d9",
   "metadata": {},
   "outputs": [
    {
     "name": "stdout",
     "output_type": "stream",
     "text": [
      "5.0\n",
      "30\n",
      "No Exceptions\n",
      "Program Excecuted\n"
     ]
    }
   ],
   "source": [
    "try:\n",
    "    l= [10,20,30]\n",
    "    print(10/2)\n",
    "    print(l[2])\n",
    "except Exception as e:\n",
    "    print(e)\n",
    "else:\n",
    "    print('No Exceptions')\n",
    "finally:\n",
    "    print('Program Excecuted')"
   ]
  },
  {
   "cell_type": "markdown",
   "id": "7d83755e",
   "metadata": {},
   "source": [
    "### Multi Threading"
   ]
  },
  {
   "cell_type": "code",
   "execution_count": 173,
   "id": "1f8b9d9b",
   "metadata": {},
   "outputs": [],
   "source": [
    "import time\n",
    "\n",
    "from threading import*"
   ]
  },
  {
   "cell_type": "markdown",
   "id": "35b82de2",
   "metadata": {},
   "source": [
    "### Class"
   ]
  },
  {
   "cell_type": "code",
   "execution_count": 179,
   "id": "f76c57f2",
   "metadata": {},
   "outputs": [
    {
     "name": "stdout",
     "output_type": "stream",
     "text": [
      "Apple says Hi\n",
      "Orange says Hi\n",
      "Apple says Hi\n",
      "Orange says Hi\n",
      "Apple says Hi\n",
      "Orange says Hi\n",
      "Apple says Hi\n",
      "Orange says Hi\n",
      "Apple says Hi\n",
      "Orange says Hi\n",
      "Apple says Hi\n",
      "Orange says Hi\n",
      "Apple says Hi\n",
      "Orange says Hi\n",
      "Apple says Hi\n",
      "Orange says Hi\n",
      "Apple says Hi\n",
      "Orange says Hi\n",
      "Apple says Hi\n",
      "Orange says Hi\n",
      "Procesded in 10 seconds\n"
     ]
    }
   ],
   "source": [
    "class Apple(Thread):\n",
    "    def run(self):\n",
    "        for i in range(10):\n",
    "            time.sleep(1)\n",
    "            print('Apple says Hi')\n",
    "            \n",
    "class Orange(Thread):\n",
    "    def run(self):\n",
    "        for i in range(10):\n",
    "            time.sleep(1)\n",
    "            print('Orange says Hi')\n",
    "\n",
    "apple_obj= Apple()\n",
    "orange_obj= Orange()\n",
    "\n",
    "start_time= time.perf_counter()\n",
    "\n",
    "apple_obj.start()     # Thread Start\n",
    "time.sleep(0.1)       # Over come collation \n",
    "orange_obj.start()\n",
    "\n",
    "apple_obj.join()      # Thread Stop\n",
    "orange_obj.join()\n",
    "\n",
    "end_time= time.perf_counter()\n",
    "\n",
    "print('Procesded in {0} seconds'.format(round(end_time-start_time)))"
   ]
  },
  {
   "cell_type": "markdown",
   "id": "224229f7",
   "metadata": {},
   "source": [
    "### Method"
   ]
  },
  {
   "cell_type": "code",
   "execution_count": 185,
   "id": "38f21866",
   "metadata": {},
   "outputs": [
    {
     "name": "stdout",
     "output_type": "stream",
     "text": [
      "Hello\n",
      "Hi\n",
      "Hello\n",
      "Hi\n",
      "Hello\n",
      "Hi\n",
      "Hello\n",
      "Hi\n",
      "Hello\n",
      "Hi\n",
      "Processed in 5 seconds\n"
     ]
    }
   ],
   "source": [
    "def Hello():\n",
    "    for i in range(5):\n",
    "        time.sleep(1)\n",
    "        print('Hello')\n",
    "\n",
    "def Hi():\n",
    "    for i in range(5):\n",
    "        time.sleep(1)\n",
    "        print('Hi')        \n",
    "\n",
    "start_time= time.perf_counter()\n",
    "\n",
    "obj= Thread(target= Hello)\n",
    "obj1= Thread(target= Hi)\n",
    "\n",
    "obj.start()\n",
    "time.sleep(0.2)\n",
    "obj1.start()\n",
    "\n",
    "obj.join()\n",
    "obj1.join()\n",
    "\n",
    "end_time= time.perf_counter()\n",
    "\n",
    "print('Processed in {} seconds'.format(round(end_time-start_time)))"
   ]
  },
  {
   "cell_type": "markdown",
   "id": "def9444d",
   "metadata": {},
   "source": [
    "### Decorators"
   ]
  },
  {
   "cell_type": "code",
   "execution_count": 198,
   "id": "0b1edef9",
   "metadata": {},
   "outputs": [],
   "source": [
    "def new_decorator(original_func):\n",
    "    \n",
    "    def wrap_func():\n",
    "        \n",
    "        print('Some extra code before the original function')\n",
    "        \n",
    "        original_func()\n",
    "        \n",
    "        print('Some extra code after the original function')\n",
    "        \n",
    "    return wrap_func"
   ]
  },
  {
   "cell_type": "code",
   "execution_count": 199,
   "id": "ea896d41",
   "metadata": {},
   "outputs": [],
   "source": [
    "def func_needs_decorator():\n",
    "    print('I want to be decorated')\n",
    "    "
   ]
  },
  {
   "cell_type": "code",
   "execution_count": 200,
   "id": "9e85ed13",
   "metadata": {},
   "outputs": [
    {
     "name": "stdout",
     "output_type": "stream",
     "text": [
      "I want to be decorated\n"
     ]
    }
   ],
   "source": [
    "func_needs_decorator()"
   ]
  },
  {
   "cell_type": "code",
   "execution_count": 205,
   "id": "8db56786",
   "metadata": {},
   "outputs": [],
   "source": [
    "decorated= new_decorator(func_needs_decorator)"
   ]
  },
  {
   "cell_type": "code",
   "execution_count": 206,
   "id": "70eff468",
   "metadata": {},
   "outputs": [
    {
     "name": "stdout",
     "output_type": "stream",
     "text": [
      "Some extra code before the original function\n",
      "I want to be decorated\n",
      "Some extra code after the original function\n"
     ]
    }
   ],
   "source": [
    "decorated()"
   ]
  },
  {
   "cell_type": "code",
   "execution_count": 211,
   "id": "ae7f2010",
   "metadata": {},
   "outputs": [],
   "source": [
    "@new_decorator\n",
    "def func_needs_decorated():\n",
    "    print('I need decorated')"
   ]
  },
  {
   "cell_type": "code",
   "execution_count": 212,
   "id": "4f1525c0",
   "metadata": {},
   "outputs": [
    {
     "name": "stdout",
     "output_type": "stream",
     "text": [
      "Some extra code before the original function\n",
      "I need decorated\n",
      "Some extra code after the original function\n"
     ]
    }
   ],
   "source": [
    "func_needs_decorated()"
   ]
  },
  {
   "cell_type": "markdown",
   "id": "26173654",
   "metadata": {},
   "source": [
    "### Closures & Decorators"
   ]
  },
  {
   "cell_type": "code",
   "execution_count": 255,
   "id": "34f90f41",
   "metadata": {},
   "outputs": [],
   "source": [
    "def main_welcome(msg):         # CLosure\n",
    "    def sub_welcome():\n",
    "        print('Welcome')\n",
    "        print(msg)\n",
    "    return sub_welcome()    "
   ]
  },
  {
   "cell_type": "code",
   "execution_count": 257,
   "id": "e6b7f1db",
   "metadata": {},
   "outputs": [
    {
     "name": "stdout",
     "output_type": "stream",
     "text": [
      "Welcome\n",
      "msg\n"
     ]
    }
   ],
   "source": [
    "main_welcome('HI')"
   ]
  },
  {
   "cell_type": "code",
   "execution_count": null,
   "id": "291598ff",
   "metadata": {},
   "outputs": [],
   "source": []
  }
 ],
 "metadata": {
  "kernelspec": {
   "display_name": "Python 3 (ipykernel)",
   "language": "python",
   "name": "python3"
  },
  "language_info": {
   "codemirror_mode": {
    "name": "ipython",
    "version": 3
   },
   "file_extension": ".py",
   "mimetype": "text/x-python",
   "name": "python",
   "nbconvert_exporter": "python",
   "pygments_lexer": "ipython3",
   "version": "3.9.7"
  }
 },
 "nbformat": 4,
 "nbformat_minor": 5
}
